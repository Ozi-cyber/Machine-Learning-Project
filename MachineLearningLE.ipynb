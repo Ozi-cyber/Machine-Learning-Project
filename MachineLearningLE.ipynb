{
  "cells": [
    {
      "cell_type": "markdown",
      "metadata": {
        "id": "view-in-github",
        "colab_type": "text"
      },
      "source": [
        "<a href=\"https://colab.research.google.com/github/Ozi-cyber/Machine-Learning-Project/blob/main/MachineLearningLE.ipynb\" target=\"_parent\"><img src=\"https://colab.research.google.com/assets/colab-badge.svg\" alt=\"Open In Colab\"/></a>"
      ]
    },
    {
      "cell_type": "markdown",
      "source": [
        "##GOLD PRICE PREDICTION: COMPARISON OF MACROECONOMIC VARIABLES AND TECHNICAL INDICATORS USING REGRESSION ALGORITHMS"
      ],
      "metadata": {
        "id": "k97n0ap8sMr_"
      },
      "id": "k97n0ap8sMr_"
    },
    {
      "cell_type": "markdown",
      "source": [
        "Dataset: https://www.kaggle.com/datasets/sid321axn/gold-price-prediction-datase"
      ],
      "metadata": {
        "id": "9HYsmAg_qfVk"
      },
      "id": "9HYsmAg_qfVk"
    },
    {
      "cell_type": "markdown",
      "id": "8d678889",
      "metadata": {
        "id": "8d678889"
      },
      "source": [
        "# Import Libraries"
      ]
    },
    {
      "cell_type": "code",
      "execution_count": null,
      "id": "8e24bf07",
      "metadata": {
        "id": "8e24bf07"
      },
      "outputs": [],
      "source": [
        "import numpy as np\n",
        "import matplotlib.pyplot as plt\n",
        "import pandas as pd\n",
        "import seaborn as sns\n",
        "import statsmodels.api as sm\n",
        "%matplotlib inline\n",
        "from sklearn.model_selection import train_test_split\n",
        "from sklearn.linear_model import LinearRegression\n",
        "from sklearn import metrics\n",
        "from sklearn.metrics import mean_absolute_percentage_error\n",
        "from datetime import datetime\n",
        "from matplotlib import pyplot\n",
        "from sklearn.linear_model import Lasso\n",
        "from sklearn.linear_model import Ridge\n",
        "from sklearn.ensemble import RandomForestRegressor\n",
        "from sklearn.metrics import mean_squared_error\n",
        "from math import sqrt\n",
        "from sklearn.preprocessing import StandardScaler\n",
        "from sklearn.ensemble import GradientBoostingRegressor\n",
        "from sklearn import tree\n",
        "from sklearn.model_selection import GridSearchCV\n",
        "from sklearn.metrics import mean_absolute_error\n",
        "from sklearn.model_selection import cross_val_score\n",
        "from sklearn.model_selection import KFold\n",
        "from keras.models import Sequential\n",
        "from keras.layers import Dense"
      ]
    },
    {
      "cell_type": "markdown",
      "id": "e837231f",
      "metadata": {
        "id": "e837231f"
      },
      "source": [
        "# Import dataset"
      ]
    },
    {
      "cell_type": "code",
      "execution_count": null,
      "id": "756325db",
      "metadata": {
        "id": "756325db"
      },
      "outputs": [],
      "source": [
        "df = pd.read_csv(\"Gold_Price_Data.csv\")\n",
        "df.index = pd.to_datetime(df['Date'], format='%m/%d/%Y')"
      ]
    },
    {
      "cell_type": "code",
      "execution_count": null,
      "id": "4a6a8a5b",
      "metadata": {
        "id": "4a6a8a5b",
        "outputId": "b6010dce-d38f-471d-cef4-1f8f68fa4448"
      },
      "outputs": [
        {
          "data": {
            "text/html": [
              "<div>\n",
              "<style scoped>\n",
              "    .dataframe tbody tr th:only-of-type {\n",
              "        vertical-align: middle;\n",
              "    }\n",
              "\n",
              "    .dataframe tbody tr th {\n",
              "        vertical-align: top;\n",
              "    }\n",
              "\n",
              "    .dataframe thead th {\n",
              "        text-align: right;\n",
              "    }\n",
              "</style>\n",
              "<table border=\"1\" class=\"dataframe\">\n",
              "  <thead>\n",
              "    <tr style=\"text-align: right;\">\n",
              "      <th></th>\n",
              "      <th>SPX</th>\n",
              "      <th>USO</th>\n",
              "      <th>SLV</th>\n",
              "      <th>EUR/USD</th>\n",
              "      <th>RSI</th>\n",
              "      <th>ROC</th>\n",
              "      <th>Moving Average</th>\n",
              "      <th>MFI</th>\n",
              "      <th>GLD</th>\n",
              "    </tr>\n",
              "  </thead>\n",
              "  <tbody>\n",
              "    <tr>\n",
              "      <th>count</th>\n",
              "      <td>2290.000000</td>\n",
              "      <td>2290.000000</td>\n",
              "      <td>2290.000000</td>\n",
              "      <td>2290.000000</td>\n",
              "      <td>2290.000000</td>\n",
              "      <td>2290.000000</td>\n",
              "      <td>2290.000000</td>\n",
              "      <td>2290.000000</td>\n",
              "      <td>2290.000000</td>\n",
              "    </tr>\n",
              "    <tr>\n",
              "      <th>mean</th>\n",
              "      <td>1654.315776</td>\n",
              "      <td>31.842221</td>\n",
              "      <td>20.084997</td>\n",
              "      <td>1.283653</td>\n",
              "      <td>51.265411</td>\n",
              "      <td>0.521383</td>\n",
              "      <td>122.237251</td>\n",
              "      <td>53.037906</td>\n",
              "      <td>122.732875</td>\n",
              "    </tr>\n",
              "    <tr>\n",
              "      <th>std</th>\n",
              "      <td>519.111540</td>\n",
              "      <td>19.523517</td>\n",
              "      <td>7.092566</td>\n",
              "      <td>0.131547</td>\n",
              "      <td>12.197325</td>\n",
              "      <td>5.512781</td>\n",
              "      <td>23.831194</td>\n",
              "      <td>93.772507</td>\n",
              "      <td>23.283346</td>\n",
              "    </tr>\n",
              "    <tr>\n",
              "      <th>min</th>\n",
              "      <td>676.530029</td>\n",
              "      <td>7.960000</td>\n",
              "      <td>8.850000</td>\n",
              "      <td>1.039047</td>\n",
              "      <td>15.660000</td>\n",
              "      <td>-17.690000</td>\n",
              "      <td>48.490000</td>\n",
              "      <td>0.340000</td>\n",
              "      <td>70.000000</td>\n",
              "    </tr>\n",
              "    <tr>\n",
              "      <th>25%</th>\n",
              "      <td>1239.874969</td>\n",
              "      <td>14.380000</td>\n",
              "      <td>15.570000</td>\n",
              "      <td>1.171313</td>\n",
              "      <td>43.197500</td>\n",
              "      <td>-2.260000</td>\n",
              "      <td>108.955000</td>\n",
              "      <td>39.242500</td>\n",
              "      <td>109.725000</td>\n",
              "    </tr>\n",
              "    <tr>\n",
              "      <th>50%</th>\n",
              "      <td>1551.434998</td>\n",
              "      <td>33.869999</td>\n",
              "      <td>17.268500</td>\n",
              "      <td>1.303297</td>\n",
              "      <td>50.950000</td>\n",
              "      <td>0.380000</td>\n",
              "      <td>119.890000</td>\n",
              "      <td>51.145000</td>\n",
              "      <td>120.580002</td>\n",
              "    </tr>\n",
              "    <tr>\n",
              "      <th>75%</th>\n",
              "      <td>2073.010070</td>\n",
              "      <td>37.827501</td>\n",
              "      <td>22.882500</td>\n",
              "      <td>1.369971</td>\n",
              "      <td>59.945000</td>\n",
              "      <td>3.100000</td>\n",
              "      <td>133.192500</td>\n",
              "      <td>62.955000</td>\n",
              "      <td>132.840004</td>\n",
              "    </tr>\n",
              "    <tr>\n",
              "      <th>max</th>\n",
              "      <td>2872.870117</td>\n",
              "      <td>117.480003</td>\n",
              "      <td>47.259998</td>\n",
              "      <td>1.598798</td>\n",
              "      <td>86.010000</td>\n",
              "      <td>121.890000</td>\n",
              "      <td>197.830000</td>\n",
              "      <td>4467.000000</td>\n",
              "      <td>184.589996</td>\n",
              "    </tr>\n",
              "  </tbody>\n",
              "</table>\n",
              "</div>"
            ],
            "text/plain": [
              "               SPX          USO          SLV      EUR/USD          RSI  \\\n",
              "count  2290.000000  2290.000000  2290.000000  2290.000000  2290.000000   \n",
              "mean   1654.315776    31.842221    20.084997     1.283653    51.265411   \n",
              "std     519.111540    19.523517     7.092566     0.131547    12.197325   \n",
              "min     676.530029     7.960000     8.850000     1.039047    15.660000   \n",
              "25%    1239.874969    14.380000    15.570000     1.171313    43.197500   \n",
              "50%    1551.434998    33.869999    17.268500     1.303297    50.950000   \n",
              "75%    2073.010070    37.827501    22.882500     1.369971    59.945000   \n",
              "max    2872.870117   117.480003    47.259998     1.598798    86.010000   \n",
              "\n",
              "               ROC  Moving Average          MFI          GLD  \n",
              "count  2290.000000     2290.000000  2290.000000  2290.000000  \n",
              "mean      0.521383      122.237251    53.037906   122.732875  \n",
              "std       5.512781       23.831194    93.772507    23.283346  \n",
              "min     -17.690000       48.490000     0.340000    70.000000  \n",
              "25%      -2.260000      108.955000    39.242500   109.725000  \n",
              "50%       0.380000      119.890000    51.145000   120.580002  \n",
              "75%       3.100000      133.192500    62.955000   132.840004  \n",
              "max     121.890000      197.830000  4467.000000   184.589996  "
            ]
          },
          "execution_count": 501,
          "metadata": {},
          "output_type": "execute_result"
        }
      ],
      "source": [
        "df.describe()"
      ]
    },
    {
      "cell_type": "code",
      "execution_count": null,
      "id": "e905031c",
      "metadata": {
        "id": "e905031c",
        "outputId": "cb741257-80ca-4e3f-91e6-5befbfc17639"
      },
      "outputs": [
        {
          "data": {
            "text/plain": [
              "(2290, 10)"
            ]
          },
          "execution_count": 502,
          "metadata": {},
          "output_type": "execute_result"
        }
      ],
      "source": [
        "df.shape"
      ]
    },
    {
      "cell_type": "code",
      "execution_count": null,
      "id": "558a31ac",
      "metadata": {
        "id": "558a31ac"
      },
      "outputs": [],
      "source": [
        "for x in ['Moving Average', 'MFI', 'ROC', 'RSI']:\n",
        "    q75,q25 = np.percentile(df.loc[:,x],[75,25])\n",
        "    intr_qr = q75-q25\n",
        "\n",
        "    max = q75+(1.5*intr_qr)\n",
        "    min = q25-(1.5*intr_qr)\n",
        "\n",
        "    df.loc[df[x] < min,x] = np.nan\n",
        "    df.loc[df[x] > max,x] = np.nan\n",
        "\n",
        "df = df.dropna(axis = 0)"
      ]
    },
    {
      "cell_type": "code",
      "execution_count": null,
      "id": "d2141217",
      "metadata": {
        "id": "d2141217",
        "outputId": "94a6d873-9737-4f14-c069-22fe4db37e2e"
      },
      "outputs": [
        {
          "name": "stdout",
          "output_type": "stream",
          "text": [
            "<bound method Series.isnull of Date\n",
            "2008-01-02     79.31\n",
            "2008-01-03     79.53\n",
            "2008-01-04     79.73\n",
            "2008-01-07     79.91\n",
            "2008-01-08     80.13\n",
            "               ...  \n",
            "2018-05-08    125.90\n",
            "2018-05-09    125.89\n",
            "2018-05-10    125.89\n",
            "2018-05-14    125.88\n",
            "2018-05-16    125.74\n",
            "Name: Moving Average, Length: 2218, dtype: float64>\n"
          ]
        }
      ],
      "source": [
        "print(df['Moving Average'].isnull)"
      ]
    },
    {
      "cell_type": "markdown",
      "id": "24569317",
      "metadata": {
        "id": "24569317"
      },
      "source": [
        "# Assign Variables"
      ]
    },
    {
      "cell_type": "code",
      "execution_count": null,
      "id": "cd73de12",
      "metadata": {
        "id": "cd73de12"
      },
      "outputs": [],
      "source": [
        "macro_X = df.iloc[:, 1:5]\n",
        "tech_X = df.iloc[:,5:9]\n",
        "y = df.iloc[:, -1]"
      ]
    },
    {
      "cell_type": "markdown",
      "id": "c46c2d63",
      "metadata": {
        "id": "c46c2d63"
      },
      "source": [
        "# Split dataset"
      ]
    },
    {
      "cell_type": "code",
      "execution_count": null,
      "id": "806cbec8",
      "metadata": {
        "id": "806cbec8"
      },
      "outputs": [],
      "source": [
        "macro_X_train, macro_X_test, y_train, y_test = train_test_split(macro_X, y, test_size = 0.25, random_state=0, shuffle = False)"
      ]
    },
    {
      "cell_type": "markdown",
      "id": "50baed2a",
      "metadata": {
        "id": "50baed2a"
      },
      "source": [
        "# Linear Regression"
      ]
    },
    {
      "cell_type": "markdown",
      "id": "3428f473",
      "metadata": {
        "id": "3428f473"
      },
      "source": [
        "### Macro"
      ]
    },
    {
      "cell_type": "code",
      "execution_count": null,
      "id": "4cc2fe33",
      "metadata": {
        "id": "4cc2fe33",
        "outputId": "3211a909-75e0-4cdd-a426-0e3db7055733"
      },
      "outputs": [
        {
          "data": {
            "text/plain": [
              "LinearRegression()"
            ]
          },
          "execution_count": 507,
          "metadata": {},
          "output_type": "execute_result"
        }
      ],
      "source": [
        "lr = LinearRegression()\n",
        "\n",
        "#training the model with the linear regression function\n",
        "lr.fit(macro_X_train, y_train)"
      ]
    },
    {
      "cell_type": "code",
      "execution_count": null,
      "id": "4107c947",
      "metadata": {
        "id": "4107c947"
      },
      "outputs": [],
      "source": [
        "lr_train_macro_predictions = lr.predict(macro_X_train)\n",
        "lr_test_macro_predictions = lr.predict(macro_X_test)\n",
        "y_test = pd.DataFrame(y_test)"
      ]
    },
    {
      "cell_type": "code",
      "execution_count": null,
      "id": "bc53e116",
      "metadata": {
        "id": "bc53e116"
      },
      "outputs": [],
      "source": [
        "result1 = (round(metrics.mean_absolute_error(y_test, lr_test_macro_predictions), 2))\n",
        "result2 = (round(np.sqrt(metrics.mean_squared_error(y_test, lr_test_macro_predictions)), 2))\n",
        "result3 = (round(metrics.mean_absolute_percentage_error(y_test, lr_test_macro_predictions), 2))"
      ]
    },
    {
      "cell_type": "markdown",
      "id": "b2195ee3",
      "metadata": {
        "id": "b2195ee3"
      },
      "source": [
        "### Tech"
      ]
    },
    {
      "cell_type": "code",
      "execution_count": null,
      "id": "ec48ef0e",
      "metadata": {
        "id": "ec48ef0e"
      },
      "outputs": [],
      "source": [
        "tech_X_train, tech_X_test, y_tech_train, y_tech_test = train_test_split(tech_X, y, test_size = 0.25, random_state=0, shuffle = False)"
      ]
    },
    {
      "cell_type": "code",
      "execution_count": null,
      "id": "ada64b5c",
      "metadata": {
        "id": "ada64b5c",
        "outputId": "4c79f999-532a-43da-e341-a069f41e017a"
      },
      "outputs": [
        {
          "data": {
            "text/plain": [
              "LinearRegression()"
            ]
          },
          "execution_count": 511,
          "metadata": {},
          "output_type": "execute_result"
        }
      ],
      "source": [
        "lr.fit(tech_X_train, y_tech_train)"
      ]
    },
    {
      "cell_type": "code",
      "execution_count": null,
      "id": "10452b71",
      "metadata": {
        "id": "10452b71"
      },
      "outputs": [],
      "source": [
        "lr_train_tech_predictions = lr.predict(tech_X_train)\n",
        "lr_test_tech_predictions = lr.predict(tech_X_test)\n",
        "y_tech_test = pd.DataFrame(y_tech_test)"
      ]
    },
    {
      "cell_type": "code",
      "execution_count": null,
      "id": "30784df4",
      "metadata": {
        "id": "30784df4"
      },
      "outputs": [],
      "source": [
        "result4 = (round(metrics.mean_absolute_error(y_tech_test, lr_test_tech_predictions), 2))\n",
        "result5 = (round(np.sqrt(metrics.mean_squared_error(y_tech_test, lr_test_tech_predictions)), 2))\n",
        "result6 = (round(metrics.mean_absolute_percentage_error(y_tech_test, lr_test_tech_predictions), 2))"
      ]
    },
    {
      "cell_type": "markdown",
      "id": "4994d3f7",
      "metadata": {
        "id": "4994d3f7"
      },
      "source": [
        "# Random Forest"
      ]
    },
    {
      "cell_type": "markdown",
      "id": "ad7ad270",
      "metadata": {
        "id": "ad7ad270"
      },
      "source": [
        "### Macro"
      ]
    },
    {
      "cell_type": "code",
      "execution_count": null,
      "id": "e93fb0aa",
      "metadata": {
        "id": "e93fb0aa",
        "outputId": "f70261e4-d111-42d2-d6f3-9f130b9aa898"
      },
      "outputs": [
        {
          "data": {
            "text/plain": [
              "RandomForestRegressor(n_estimators=1000, random_state=0)"
            ]
          },
          "execution_count": 514,
          "metadata": {},
          "output_type": "execute_result"
        }
      ],
      "source": [
        "rfr = RandomForestRegressor(n_estimators = 1000, random_state = 0)\n",
        "rfr.fit(macro_X_train, y_train)"
      ]
    },
    {
      "cell_type": "code",
      "execution_count": null,
      "id": "779bcfc9",
      "metadata": {
        "id": "779bcfc9"
      },
      "outputs": [],
      "source": [
        "rf_train_predict_macro = rfr.predict(macro_X_train)\n",
        "rf_test_predict_macro = rfr.predict(macro_X_test)\n",
        "y_test = pd.DataFrame(y_test)"
      ]
    },
    {
      "cell_type": "code",
      "execution_count": null,
      "id": "7d5955a3",
      "metadata": {
        "id": "7d5955a3"
      },
      "outputs": [],
      "source": [
        "def mape(y_test, pred):\n",
        "    y_test, pred = np.array(y_test), np.array(pred)\n",
        "    mape = np.mean(np.abs((y_test - pred) / y_test))\n",
        "    return mape"
      ]
    },
    {
      "cell_type": "code",
      "execution_count": null,
      "id": "a264c1c8",
      "metadata": {
        "id": "a264c1c8"
      },
      "outputs": [],
      "source": [
        "result7 = (round(mean_absolute_error(y_test, rf_test_predict_macro), 2))\n",
        "result8 = (round(np.sqrt(mean_squared_error(y_test, rf_test_predict_macro)), 2))\n",
        "result9 = (round(mape(y_test, rf_test_predict_macro), 2))"
      ]
    },
    {
      "cell_type": "markdown",
      "id": "95da9971",
      "metadata": {
        "id": "95da9971"
      },
      "source": [
        "### Tech"
      ]
    },
    {
      "cell_type": "code",
      "execution_count": null,
      "id": "996d6b66",
      "metadata": {
        "id": "996d6b66",
        "outputId": "fc5292ea-9044-48eb-ec12-8f0ccc465295"
      },
      "outputs": [
        {
          "data": {
            "text/plain": [
              "RandomForestRegressor(n_estimators=1000, random_state=0)"
            ]
          },
          "execution_count": 518,
          "metadata": {},
          "output_type": "execute_result"
        }
      ],
      "source": [
        "rfr.fit(tech_X_train, y_train)"
      ]
    },
    {
      "cell_type": "code",
      "execution_count": null,
      "id": "a85803f7",
      "metadata": {
        "id": "a85803f7"
      },
      "outputs": [],
      "source": [
        "rf_train_predict_tech = rfr.predict(tech_X_train)\n",
        "rf_test_predict_tech = rfr.predict(tech_X_test)\n",
        "y_tech_test = pd.DataFrame(y_tech_test)"
      ]
    },
    {
      "cell_type": "code",
      "execution_count": null,
      "id": "1887c8f5",
      "metadata": {
        "id": "1887c8f5"
      },
      "outputs": [],
      "source": [
        "result10 = (round(mean_absolute_error(y_tech_test, rf_test_predict_tech), 2))\n",
        "result11 = (round(np.sqrt(mean_squared_error(y_tech_test, rf_test_predict_tech)), 2))\n",
        "result12 = (round(mape(y_tech_test, rf_test_predict_tech), 2))"
      ]
    },
    {
      "cell_type": "markdown",
      "id": "fa836190",
      "metadata": {
        "id": "fa836190"
      },
      "source": [
        "# Gradient Boosting"
      ]
    },
    {
      "cell_type": "markdown",
      "id": "494adc53",
      "metadata": {
        "id": "494adc53"
      },
      "source": [
        "### Macro"
      ]
    },
    {
      "cell_type": "code",
      "execution_count": null,
      "id": "1197c5ac",
      "metadata": {
        "id": "1197c5ac"
      },
      "outputs": [],
      "source": [
        "GBR = GradientBoostingRegressor(n_estimators=2000,learning_rate=.01,subsample=.5,\n",
        "                                max_depth=9,random_state=1)"
      ]
    },
    {
      "cell_type": "code",
      "execution_count": null,
      "id": "d6a9ca92",
      "metadata": {
        "id": "d6a9ca92"
      },
      "outputs": [],
      "source": [
        "GBR.fit(macro_X_train, y_train)\n",
        "test_y_pred_macro_gbr = GBR.predict(macro_X_test)\n",
        "train_y_pred_macro_gbr = GBR.predict(macro_X_train)\n",
        "y_test = pd.DataFrame(y_test)"
      ]
    },
    {
      "cell_type": "code",
      "execution_count": null,
      "id": "6228b769",
      "metadata": {
        "id": "6228b769"
      },
      "outputs": [],
      "source": [
        "result13 = (round(mean_absolute_error(y_test, test_y_pred_macro_gbr), 2))\n",
        "result14 = (round(np.sqrt(mean_squared_error(y_test, test_y_pred_macro_gbr)), 2))\n",
        "result15 = (round(mape(y_test, test_y_pred_macro_gbr), 2))"
      ]
    },
    {
      "cell_type": "markdown",
      "id": "6788b3d2",
      "metadata": {
        "id": "6788b3d2"
      },
      "source": [
        "### Tech"
      ]
    },
    {
      "cell_type": "code",
      "execution_count": null,
      "id": "e235bb5d",
      "metadata": {
        "id": "e235bb5d"
      },
      "outputs": [],
      "source": [
        "GBR.fit(tech_X_train, y_train)\n",
        "test_y_pred_tech_gbr = GBR.predict(tech_X_test)\n",
        "train_y_pred_tech_gbr = GBR.predict(tech_X_train)\n",
        "y_tech_test = pd.DataFrame(y_tech_test)"
      ]
    },
    {
      "cell_type": "code",
      "execution_count": null,
      "id": "a6af3f0d",
      "metadata": {
        "id": "a6af3f0d"
      },
      "outputs": [],
      "source": [
        "result16 = (round(mean_absolute_error(y_tech_test, test_y_pred_tech_gbr), 2))\n",
        "result17 = (round(np.sqrt(mean_squared_error(y_tech_test, test_y_pred_tech_gbr)), 2))\n",
        "result18 = (round(mape(y_tech_test, test_y_pred_tech_gbr), 2))"
      ]
    },
    {
      "cell_type": "markdown",
      "id": "6e7e8f9b",
      "metadata": {
        "id": "6e7e8f9b"
      },
      "source": [
        "# ANN"
      ]
    },
    {
      "cell_type": "code",
      "execution_count": null,
      "id": "8a7ff1df",
      "metadata": {
        "id": "8a7ff1df"
      },
      "outputs": [],
      "source": [
        "TargetVariable=['GLD']\n",
        "Macro_Predictors=['SPX', 'USO', 'SLV', 'EUR/USD']\n",
        "tech_Predictors=['RSI', 'ROC', 'Moving Average', 'MFI']"
      ]
    },
    {
      "cell_type": "code",
      "execution_count": null,
      "id": "eb795958",
      "metadata": {
        "id": "eb795958"
      },
      "outputs": [],
      "source": [
        "X_macro=df[Macro_Predictors].values\n",
        "X_tech=df[tech_Predictors].values\n",
        "Y=df[TargetVariable].values"
      ]
    },
    {
      "cell_type": "markdown",
      "id": "9c0240ef",
      "metadata": {
        "id": "9c0240ef"
      },
      "source": [
        "## Scaling"
      ]
    },
    {
      "cell_type": "code",
      "execution_count": null,
      "id": "15e065c8",
      "metadata": {
        "id": "15e065c8"
      },
      "outputs": [],
      "source": [
        "MacroScaler=StandardScaler()\n",
        "TechScaler=StandardScaler()\n",
        "TargetVarScaler=StandardScaler()"
      ]
    },
    {
      "cell_type": "code",
      "execution_count": null,
      "id": "8bd3903d",
      "metadata": {
        "id": "8bd3903d"
      },
      "outputs": [],
      "source": [
        "MacroScalerFit=MacroScaler.fit(X_macro)\n",
        "TechScalerFit=TechScaler.fit(X_tech)\n",
        "TargetVarScalerFit=TargetVarScaler.fit(Y)"
      ]
    },
    {
      "cell_type": "code",
      "execution_count": null,
      "id": "75cc4daa",
      "metadata": {
        "id": "75cc4daa"
      },
      "outputs": [],
      "source": [
        "X_macro=MacroScalerFit.transform(X_macro)\n",
        "X_tech=TechScalerFit.transform(X_tech)\n",
        "Y=TargetVarScalerFit.transform(Y)"
      ]
    },
    {
      "cell_type": "markdown",
      "id": "cefe579d",
      "metadata": {
        "id": "cefe579d"
      },
      "source": [
        "### Macro"
      ]
    },
    {
      "cell_type": "code",
      "execution_count": null,
      "id": "e6f3a253",
      "metadata": {
        "id": "e6f3a253"
      },
      "outputs": [],
      "source": [
        "X_train, X_test, Y_train, Y_test = train_test_split(X_macro, Y, test_size=0.25, random_state=0, shuffle=False)"
      ]
    },
    {
      "cell_type": "code",
      "execution_count": null,
      "id": "19ecc9af",
      "metadata": {
        "id": "19ecc9af",
        "outputId": "9c6bef5c-8278-4e87-ac6a-239cc1ecebb6"
      },
      "outputs": [
        {
          "name": "stdout",
          "output_type": "stream",
          "text": [
            "Epoch 1/10\n",
            "333/333 [==============================] - 1s 2ms/step - loss: 0.7094\n",
            "Epoch 2/10\n",
            "333/333 [==============================] - 1s 1ms/step - loss: 0.2292\n",
            "Epoch 3/10\n",
            "333/333 [==============================] - 1s 1ms/step - loss: 0.1483\n",
            "Epoch 4/10\n",
            "333/333 [==============================] - 0s 1ms/step - loss: 0.1123\n",
            "Epoch 5/10\n",
            "333/333 [==============================] - 0s 1ms/step - loss: 0.0925\n",
            "Epoch 6/10\n",
            "333/333 [==============================] - 1s 2ms/step - loss: 0.0814\n",
            "Epoch 7/10\n",
            "333/333 [==============================] - 1s 2ms/step - loss: 0.0756\n",
            "Epoch 8/10\n",
            "333/333 [==============================] - 0s 1ms/step - loss: 0.0724\n",
            "Epoch 9/10\n",
            "333/333 [==============================] - 1s 2ms/step - loss: 0.0713\n",
            "Epoch 10/10\n",
            "333/333 [==============================] - 1s 2ms/step - loss: 0.0704\n"
          ]
        },
        {
          "data": {
            "text/plain": [
              "<keras.callbacks.History at 0x23c05f14190>"
            ]
          },
          "execution_count": 532,
          "metadata": {},
          "output_type": "execute_result"
        }
      ],
      "source": [
        "model = Sequential()\n",
        "model.add(Dense(units=4, activation='relu'))\n",
        "model.add(Dense(1))\n",
        "model.compile(loss='mean_squared_error', optimizer='adam')\n",
        "model.fit(X_train, Y_train ,batch_size = 5, epochs = 10)"
      ]
    },
    {
      "cell_type": "code",
      "execution_count": null,
      "id": "bc6e5567",
      "metadata": {
        "id": "bc6e5567",
        "outputId": "664437f3-ef67-4a1f-b4a5-06867e931087"
      },
      "outputs": [
        {
          "name": "stdout",
          "output_type": "stream",
          "text": [
            "18/18 [==============================] - 0s 1ms/step\n"
          ]
        }
      ],
      "source": [
        "predict=model.predict(X_test)"
      ]
    },
    {
      "cell_type": "code",
      "execution_count": null,
      "id": "8387d586",
      "metadata": {
        "id": "8387d586"
      },
      "outputs": [],
      "source": [
        "predict=TargetVarScalerFit.inverse_transform(predict)\n",
        "test_data=TargetVarScalerFit.inverse_transform(Y_test)\n",
        "Test_Data=MacroScalerFit.inverse_transform(X_test)\n",
        "\n",
        "TestingData=pd.DataFrame(data=Test_Data, columns=Macro_Predictors)"
      ]
    },
    {
      "cell_type": "code",
      "execution_count": null,
      "id": "a72a39da",
      "metadata": {
        "id": "a72a39da"
      },
      "outputs": [],
      "source": [
        "result19 = (round(metrics.mean_absolute_error(test_data, predict), 2))\n",
        "result20 = (round(np.sqrt(metrics.mean_squared_error(test_data, predict)), 2))\n",
        "result21 = (round(metrics.mean_absolute_percentage_error(test_data, predict), 2))"
      ]
    },
    {
      "cell_type": "markdown",
      "id": "79189124",
      "metadata": {
        "id": "79189124"
      },
      "source": [
        "### Tech"
      ]
    },
    {
      "cell_type": "code",
      "execution_count": null,
      "id": "05cd3bdb",
      "metadata": {
        "id": "05cd3bdb"
      },
      "outputs": [],
      "source": [
        "X_train_tech, X_test_tech, Y_train, Y_test = train_test_split(X_tech, Y, test_size=0.25, random_state=0, shuffle=False)"
      ]
    },
    {
      "cell_type": "code",
      "execution_count": null,
      "id": "7f4e49c1",
      "metadata": {
        "id": "7f4e49c1",
        "outputId": "1fca5ace-19ef-478f-86c7-096e4c7137ae"
      },
      "outputs": [
        {
          "name": "stdout",
          "output_type": "stream",
          "text": [
            "Epoch 1/100\n",
            "52/52 [==============================] - 1s 2ms/step - loss: 3.2640\n",
            "Epoch 2/100\n",
            "52/52 [==============================] - 0s 2ms/step - loss: 2.3592\n",
            "Epoch 3/100\n",
            "52/52 [==============================] - 0s 2ms/step - loss: 1.8125\n",
            "Epoch 4/100\n",
            "52/52 [==============================] - 0s 2ms/step - loss: 1.4470\n",
            "Epoch 5/100\n",
            "52/52 [==============================] - 0s 2ms/step - loss: 1.1881\n",
            "Epoch 6/100\n",
            "52/52 [==============================] - 0s 2ms/step - loss: 0.9961\n",
            "Epoch 7/100\n",
            "52/52 [==============================] - 0s 2ms/step - loss: 0.8460\n",
            "Epoch 8/100\n",
            "52/52 [==============================] - 0s 2ms/step - loss: 0.7295\n",
            "Epoch 9/100\n",
            "52/52 [==============================] - 0s 2ms/step - loss: 0.6342\n",
            "Epoch 10/100\n",
            "52/52 [==============================] - 0s 2ms/step - loss: 0.5569\n",
            "Epoch 11/100\n",
            "52/52 [==============================] - 0s 3ms/step - loss: 0.4937\n",
            "Epoch 12/100\n",
            "52/52 [==============================] - 0s 2ms/step - loss: 0.4401\n",
            "Epoch 13/100\n",
            "52/52 [==============================] - 0s 2ms/step - loss: 0.3954\n",
            "Epoch 14/100\n",
            "52/52 [==============================] - 0s 2ms/step - loss: 0.3572\n",
            "Epoch 15/100\n",
            "52/52 [==============================] - 0s 2ms/step - loss: 0.3256\n",
            "Epoch 16/100\n",
            "52/52 [==============================] - 0s 2ms/step - loss: 0.2990\n",
            "Epoch 17/100\n",
            "52/52 [==============================] - 0s 2ms/step - loss: 0.2750\n",
            "Epoch 18/100\n",
            "52/52 [==============================] - 0s 2ms/step - loss: 0.2545\n",
            "Epoch 19/100\n",
            "52/52 [==============================] - 0s 2ms/step - loss: 0.2356\n",
            "Epoch 20/100\n",
            "52/52 [==============================] - 0s 2ms/step - loss: 0.2181\n",
            "Epoch 21/100\n",
            "52/52 [==============================] - 0s 2ms/step - loss: 0.2010\n",
            "Epoch 22/100\n",
            "52/52 [==============================] - 0s 2ms/step - loss: 0.1837\n",
            "Epoch 23/100\n",
            "52/52 [==============================] - 0s 2ms/step - loss: 0.1663\n",
            "Epoch 24/100\n",
            "52/52 [==============================] - 0s 2ms/step - loss: 0.1483\n",
            "Epoch 25/100\n",
            "52/52 [==============================] - 0s 2ms/step - loss: 0.1262\n",
            "Epoch 26/100\n",
            "52/52 [==============================] - 0s 2ms/step - loss: 0.1021\n",
            "Epoch 27/100\n",
            "52/52 [==============================] - 0s 2ms/step - loss: 0.0819\n",
            "Epoch 28/100\n",
            "52/52 [==============================] - 0s 2ms/step - loss: 0.0673\n",
            "Epoch 29/100\n",
            "52/52 [==============================] - 0s 2ms/step - loss: 0.0569\n",
            "Epoch 30/100\n",
            "52/52 [==============================] - 0s 2ms/step - loss: 0.0490\n",
            "Epoch 31/100\n",
            "52/52 [==============================] - 0s 2ms/step - loss: 0.0428\n",
            "Epoch 32/100\n",
            "52/52 [==============================] - 0s 2ms/step - loss: 0.0379\n",
            "Epoch 33/100\n",
            "52/52 [==============================] - 0s 2ms/step - loss: 0.0340\n",
            "Epoch 34/100\n",
            "52/52 [==============================] - 0s 2ms/step - loss: 0.0310\n",
            "Epoch 35/100\n",
            "52/52 [==============================] - 0s 2ms/step - loss: 0.0286\n",
            "Epoch 36/100\n",
            "52/52 [==============================] - 0s 2ms/step - loss: 0.0266\n",
            "Epoch 37/100\n",
            "52/52 [==============================] - 0s 1ms/step - loss: 0.0251\n",
            "Epoch 38/100\n",
            "52/52 [==============================] - 0s 2ms/step - loss: 0.0238\n",
            "Epoch 39/100\n",
            "52/52 [==============================] - 0s 2ms/step - loss: 0.0228\n",
            "Epoch 40/100\n",
            "52/52 [==============================] - 0s 2ms/step - loss: 0.0220\n",
            "Epoch 41/100\n",
            "52/52 [==============================] - 0s 2ms/step - loss: 0.0212\n",
            "Epoch 42/100\n",
            "52/52 [==============================] - 0s 1ms/step - loss: 0.0206\n",
            "Epoch 43/100\n",
            "52/52 [==============================] - 0s 2ms/step - loss: 0.0200\n",
            "Epoch 44/100\n",
            "52/52 [==============================] - 0s 1ms/step - loss: 0.0195\n",
            "Epoch 45/100\n",
            "52/52 [==============================] - 0s 2ms/step - loss: 0.0190\n",
            "Epoch 46/100\n",
            "52/52 [==============================] - 0s 2ms/step - loss: 0.0186\n",
            "Epoch 47/100\n",
            "52/52 [==============================] - 0s 2ms/step - loss: 0.0182\n",
            "Epoch 48/100\n",
            "52/52 [==============================] - 0s 2ms/step - loss: 0.0177\n",
            "Epoch 49/100\n",
            "52/52 [==============================] - 0s 1ms/step - loss: 0.0174\n",
            "Epoch 50/100\n",
            "52/52 [==============================] - 0s 2ms/step - loss: 0.0170\n",
            "Epoch 51/100\n",
            "52/52 [==============================] - 0s 2ms/step - loss: 0.0167\n",
            "Epoch 52/100\n",
            "52/52 [==============================] - 0s 2ms/step - loss: 0.0163\n",
            "Epoch 53/100\n",
            "52/52 [==============================] - 0s 2ms/step - loss: 0.0160\n",
            "Epoch 54/100\n",
            "52/52 [==============================] - 0s 2ms/step - loss: 0.0157\n",
            "Epoch 55/100\n",
            "52/52 [==============================] - 0s 1ms/step - loss: 0.0155\n",
            "Epoch 56/100\n",
            "52/52 [==============================] - 0s 1ms/step - loss: 0.0152\n",
            "Epoch 57/100\n",
            "52/52 [==============================] - 0s 2ms/step - loss: 0.0150\n",
            "Epoch 58/100\n",
            "52/52 [==============================] - 0s 1ms/step - loss: 0.0148\n",
            "Epoch 59/100\n",
            "52/52 [==============================] - 0s 2ms/step - loss: 0.0145\n",
            "Epoch 60/100\n",
            "52/52 [==============================] - 0s 2ms/step - loss: 0.0143\n",
            "Epoch 61/100\n",
            "52/52 [==============================] - 0s 1ms/step - loss: 0.0141\n",
            "Epoch 62/100\n",
            "52/52 [==============================] - 0s 2ms/step - loss: 0.0139\n",
            "Epoch 63/100\n",
            "52/52 [==============================] - 0s 2ms/step - loss: 0.0137\n",
            "Epoch 64/100\n",
            "52/52 [==============================] - 0s 2ms/step - loss: 0.0136\n",
            "Epoch 65/100\n",
            "52/52 [==============================] - 0s 2ms/step - loss: 0.0134\n",
            "Epoch 66/100\n",
            "52/52 [==============================] - 0s 2ms/step - loss: 0.0132\n",
            "Epoch 67/100\n",
            "52/52 [==============================] - 0s 2ms/step - loss: 0.0131\n",
            "Epoch 68/100\n",
            "52/52 [==============================] - 0s 2ms/step - loss: 0.0129\n",
            "Epoch 69/100\n",
            "52/52 [==============================] - 0s 2ms/step - loss: 0.0128\n",
            "Epoch 70/100\n",
            "52/52 [==============================] - 0s 2ms/step - loss: 0.0127\n",
            "Epoch 71/100\n",
            "52/52 [==============================] - 0s 2ms/step - loss: 0.0126\n",
            "Epoch 72/100\n",
            "52/52 [==============================] - 0s 2ms/step - loss: 0.0125\n",
            "Epoch 73/100\n",
            "52/52 [==============================] - 0s 2ms/step - loss: 0.0125\n",
            "Epoch 74/100\n",
            "52/52 [==============================] - 0s 1ms/step - loss: 0.0123\n",
            "Epoch 75/100\n",
            "52/52 [==============================] - 0s 2ms/step - loss: 0.0122\n",
            "Epoch 76/100\n",
            "52/52 [==============================] - 0s 1ms/step - loss: 0.0121\n",
            "Epoch 77/100\n",
            "52/52 [==============================] - 0s 2ms/step - loss: 0.0120\n",
            "Epoch 78/100\n",
            "52/52 [==============================] - 0s 2ms/step - loss: 0.0120\n",
            "Epoch 79/100\n",
            "52/52 [==============================] - 0s 2ms/step - loss: 0.0119\n",
            "Epoch 80/100\n",
            "52/52 [==============================] - 0s 2ms/step - loss: 0.0118\n",
            "Epoch 81/100\n",
            "52/52 [==============================] - 0s 2ms/step - loss: 0.0117\n",
            "Epoch 82/100\n",
            "52/52 [==============================] - 0s 2ms/step - loss: 0.0117\n",
            "Epoch 83/100\n",
            "52/52 [==============================] - 0s 2ms/step - loss: 0.0116\n",
            "Epoch 84/100\n",
            "52/52 [==============================] - 0s 2ms/step - loss: 0.0115\n",
            "Epoch 85/100\n",
            "52/52 [==============================] - 0s 2ms/step - loss: 0.0115\n",
            "Epoch 86/100\n",
            "52/52 [==============================] - 0s 2ms/step - loss: 0.0114\n",
            "Epoch 87/100\n",
            "52/52 [==============================] - 0s 2ms/step - loss: 0.0114\n",
            "Epoch 88/100\n",
            "52/52 [==============================] - 0s 2ms/step - loss: 0.0113\n",
            "Epoch 89/100\n",
            "52/52 [==============================] - 0s 1ms/step - loss: 0.0113\n",
            "Epoch 90/100\n",
            "52/52 [==============================] - 0s 2ms/step - loss: 0.0113\n",
            "Epoch 91/100\n",
            "52/52 [==============================] - 0s 2ms/step - loss: 0.0112\n",
            "Epoch 92/100\n",
            "52/52 [==============================] - 0s 1ms/step - loss: 0.0112\n",
            "Epoch 93/100\n",
            "52/52 [==============================] - 0s 2ms/step - loss: 0.0111\n",
            "Epoch 94/100\n",
            "52/52 [==============================] - 0s 2ms/step - loss: 0.0111\n",
            "Epoch 95/100\n",
            "52/52 [==============================] - 0s 2ms/step - loss: 0.0111\n",
            "Epoch 96/100\n",
            "52/52 [==============================] - 0s 2ms/step - loss: 0.0110\n",
            "Epoch 97/100\n",
            "52/52 [==============================] - 0s 2ms/step - loss: 0.0110\n",
            "Epoch 98/100\n",
            "52/52 [==============================] - 0s 2ms/step - loss: 0.0110\n",
            "Epoch 99/100\n",
            "52/52 [==============================] - 0s 2ms/step - loss: 0.0109\n",
            "Epoch 100/100\n",
            "52/52 [==============================] - 0s 2ms/step - loss: 0.0109\n"
          ]
        },
        {
          "data": {
            "text/plain": [
              "<keras.callbacks.History at 0x23c7b61fbe0>"
            ]
          },
          "execution_count": 537,
          "metadata": {},
          "output_type": "execute_result"
        }
      ],
      "source": [
        "tech_model = Sequential()\n",
        "tech_model.add(Dense(units=4, activation='relu'))\n",
        "tech_model.add(Dense(1))\n",
        "tech_model.compile(loss='mean_squared_error', optimizer='adam')\n",
        "tech_model.fit(X_train_tech, Y_train ,batch_size = 32, epochs = 100)"
      ]
    },
    {
      "cell_type": "code",
      "execution_count": null,
      "id": "116b4b98",
      "metadata": {
        "id": "116b4b98",
        "outputId": "8618219f-3907-442c-9e69-7656ddd40a11"
      },
      "outputs": [
        {
          "name": "stdout",
          "output_type": "stream",
          "text": [
            "18/18 [==============================] - 0s 2ms/step\n"
          ]
        }
      ],
      "source": [
        "tech_predict=tech_model.predict(X_test_tech)"
      ]
    },
    {
      "cell_type": "code",
      "execution_count": null,
      "id": "92d50ca8",
      "metadata": {
        "id": "92d50ca8"
      },
      "outputs": [],
      "source": [
        "tech_predict=TargetVarScalerFit.inverse_transform(tech_predict)\n",
        "tech_test_data=TargetVarScalerFit.inverse_transform(Y_test)\n",
        "tech_Test_Data=TechScalerFit.inverse_transform(X_test_tech)"
      ]
    },
    {
      "cell_type": "code",
      "execution_count": null,
      "id": "a894efac",
      "metadata": {
        "id": "a894efac"
      },
      "outputs": [],
      "source": [
        "result22 = (round(metrics.mean_absolute_error(tech_test_data, tech_predict), 2))\n",
        "result23 = (round(np.sqrt(metrics.mean_squared_error(tech_test_data, tech_predict)), 2))\n",
        "result24 = (round(metrics.mean_absolute_percentage_error(tech_test_data, tech_predict), 2))"
      ]
    },
    {
      "cell_type": "markdown",
      "id": "d08f2112",
      "metadata": {
        "id": "d08f2112"
      },
      "source": [
        "# Metrics"
      ]
    },
    {
      "cell_type": "markdown",
      "id": "4313f8b3",
      "metadata": {
        "id": "4313f8b3"
      },
      "source": [
        "### Macro"
      ]
    },
    {
      "cell_type": "code",
      "execution_count": null,
      "id": "82fb5baa",
      "metadata": {
        "id": "82fb5baa"
      },
      "outputs": [],
      "source": [
        "macro_data = {\n",
        "    \"Linear\" : [result1, result2, result3],\n",
        "    \"Random Forest\" : [result7, result8, result9],\n",
        "    \"Gradient Boosting\" : [result13, result14, result15],\n",
        "    \"ANN\" : [result19, result20, result21]\n",
        "}\n",
        "macro = pd.DataFrame(macro_data, index = [\"MAE\", \"RMSE\", \"MAPE\"])"
      ]
    },
    {
      "cell_type": "code",
      "execution_count": null,
      "id": "32a9f736",
      "metadata": {
        "id": "32a9f736",
        "outputId": "0f7318cf-38c1-4c2a-94bb-372cd607bb61"
      },
      "outputs": [
        {
          "data": {
            "text/html": [
              "<div>\n",
              "<style scoped>\n",
              "    .dataframe tbody tr th:only-of-type {\n",
              "        vertical-align: middle;\n",
              "    }\n",
              "\n",
              "    .dataframe tbody tr th {\n",
              "        vertical-align: top;\n",
              "    }\n",
              "\n",
              "    .dataframe thead th {\n",
              "        text-align: right;\n",
              "    }\n",
              "</style>\n",
              "<table border=\"1\" class=\"dataframe\">\n",
              "  <thead>\n",
              "    <tr style=\"text-align: right;\">\n",
              "      <th></th>\n",
              "      <th>Linear</th>\n",
              "      <th>Random Forest</th>\n",
              "      <th>Gradient Boosting</th>\n",
              "      <th>ANN</th>\n",
              "    </tr>\n",
              "  </thead>\n",
              "  <tbody>\n",
              "    <tr>\n",
              "      <th>MAE</th>\n",
              "      <td>6.47</td>\n",
              "      <td>4.88</td>\n",
              "      <td>4.84</td>\n",
              "      <td>3.52</td>\n",
              "    </tr>\n",
              "    <tr>\n",
              "      <th>RMSE</th>\n",
              "      <td>7.95</td>\n",
              "      <td>5.96</td>\n",
              "      <td>5.87</td>\n",
              "      <td>4.04</td>\n",
              "    </tr>\n",
              "    <tr>\n",
              "      <th>MAPE</th>\n",
              "      <td>0.06</td>\n",
              "      <td>0.07</td>\n",
              "      <td>0.06</td>\n",
              "      <td>0.03</td>\n",
              "    </tr>\n",
              "  </tbody>\n",
              "</table>\n",
              "</div>"
            ],
            "text/plain": [
              "      Linear  Random Forest  Gradient Boosting   ANN\n",
              "MAE     6.47           4.88               4.84  3.52\n",
              "RMSE    7.95           5.96               5.87  4.04\n",
              "MAPE    0.06           0.07               0.06  0.03"
            ]
          },
          "execution_count": 542,
          "metadata": {},
          "output_type": "execute_result"
        }
      ],
      "source": [
        "macro"
      ]
    },
    {
      "cell_type": "markdown",
      "id": "67a832c4",
      "metadata": {
        "id": "67a832c4"
      },
      "source": [
        "### Tech"
      ]
    },
    {
      "cell_type": "code",
      "execution_count": null,
      "id": "e1472906",
      "metadata": {
        "id": "e1472906"
      },
      "outputs": [],
      "source": [
        "tech_data = {\n",
        "    \"Linear\" : [result4, result5, result6],\n",
        "    \"Random Forest\" : [result10, result11, result12],\n",
        "    \"Gradient Boosting\" : [result16, result17, result18],\n",
        "    \"ANN\" : [result22, result23, result24]\n",
        "}\n",
        "\n",
        "tech = pd.DataFrame(tech_data, index = [\"MAE\", \"RMSE\", \"MAPE\"])"
      ]
    },
    {
      "cell_type": "code",
      "execution_count": null,
      "id": "3a5a8b08",
      "metadata": {
        "id": "3a5a8b08",
        "outputId": "3b94487e-3319-410c-910e-524bdb45b238"
      },
      "outputs": [
        {
          "data": {
            "text/html": [
              "<div>\n",
              "<style scoped>\n",
              "    .dataframe tbody tr th:only-of-type {\n",
              "        vertical-align: middle;\n",
              "    }\n",
              "\n",
              "    .dataframe tbody tr th {\n",
              "        vertical-align: top;\n",
              "    }\n",
              "\n",
              "    .dataframe thead th {\n",
              "        text-align: right;\n",
              "    }\n",
              "</style>\n",
              "<table border=\"1\" class=\"dataframe\">\n",
              "  <thead>\n",
              "    <tr style=\"text-align: right;\">\n",
              "      <th></th>\n",
              "      <th>Linear</th>\n",
              "      <th>Random Forest</th>\n",
              "      <th>Gradient Boosting</th>\n",
              "      <th>ANN</th>\n",
              "    </tr>\n",
              "  </thead>\n",
              "  <tbody>\n",
              "    <tr>\n",
              "      <th>MAE</th>\n",
              "      <td>1.81</td>\n",
              "      <td>2.30</td>\n",
              "      <td>2.33</td>\n",
              "      <td>1.70</td>\n",
              "    </tr>\n",
              "    <tr>\n",
              "      <th>RMSE</th>\n",
              "      <td>2.29</td>\n",
              "      <td>2.94</td>\n",
              "      <td>2.97</td>\n",
              "      <td>2.18</td>\n",
              "    </tr>\n",
              "    <tr>\n",
              "      <th>MAPE</th>\n",
              "      <td>0.02</td>\n",
              "      <td>0.06</td>\n",
              "      <td>0.06</td>\n",
              "      <td>0.01</td>\n",
              "    </tr>\n",
              "  </tbody>\n",
              "</table>\n",
              "</div>"
            ],
            "text/plain": [
              "      Linear  Random Forest  Gradient Boosting   ANN\n",
              "MAE     1.81           2.30               2.33  1.70\n",
              "RMSE    2.29           2.94               2.97  2.18\n",
              "MAPE    0.02           0.06               0.06  0.01"
            ]
          },
          "execution_count": 544,
          "metadata": {},
          "output_type": "execute_result"
        }
      ],
      "source": [
        "tech"
      ]
    },
    {
      "cell_type": "markdown",
      "source": [
        "#Results and Data Visualizations"
      ],
      "metadata": {
        "id": "LET1NOGNs9AW"
      },
      "id": "LET1NOGNs9AW"
    },
    {
      "cell_type": "markdown",
      "id": "f02f9bf0",
      "metadata": {
        "id": "f02f9bf0"
      },
      "source": [
        "### Macro"
      ]
    },
    {
      "cell_type": "code",
      "execution_count": null,
      "id": "f95d3ac2",
      "metadata": {
        "id": "f95d3ac2",
        "outputId": "99d96f05-e971-48d6-90f5-fff7164fd8b2"
      },
      "outputs": [
        {
          "data": {
            "text/html": [
              "<div>\n",
              "<style scoped>\n",
              "    .dataframe tbody tr th:only-of-type {\n",
              "        vertical-align: middle;\n",
              "    }\n",
              "\n",
              "    .dataframe tbody tr th {\n",
              "        vertical-align: top;\n",
              "    }\n",
              "\n",
              "    .dataframe thead th {\n",
              "        text-align: right;\n",
              "    }\n",
              "</style>\n",
              "<table border=\"1\" class=\"dataframe\">\n",
              "  <thead>\n",
              "    <tr style=\"text-align: right;\">\n",
              "      <th></th>\n",
              "      <th>LR_Pred</th>\n",
              "      <th>RFR_Pred</th>\n",
              "      <th>GBR_Pred</th>\n",
              "      <th>ANN_Pred</th>\n",
              "    </tr>\n",
              "    <tr>\n",
              "      <th>Date</th>\n",
              "      <th></th>\n",
              "      <th></th>\n",
              "      <th></th>\n",
              "      <th></th>\n",
              "    </tr>\n",
              "  </thead>\n",
              "  <tbody>\n",
              "    <tr>\n",
              "      <th>2015-11-10</th>\n",
              "      <td>117.617622</td>\n",
              "      <td>104.657911</td>\n",
              "      <td>104.362524</td>\n",
              "      <td>106.922546</td>\n",
              "    </tr>\n",
              "    <tr>\n",
              "      <th>2015-11-11</th>\n",
              "      <td>117.334858</td>\n",
              "      <td>104.935731</td>\n",
              "      <td>105.076553</td>\n",
              "      <td>106.567558</td>\n",
              "    </tr>\n",
              "    <tr>\n",
              "      <th>2015-11-12</th>\n",
              "      <td>117.134093</td>\n",
              "      <td>105.041461</td>\n",
              "      <td>105.311746</td>\n",
              "      <td>107.024231</td>\n",
              "    </tr>\n",
              "    <tr>\n",
              "      <th>2015-11-13</th>\n",
              "      <td>116.706816</td>\n",
              "      <td>105.379481</td>\n",
              "      <td>105.545102</td>\n",
              "      <td>107.250931</td>\n",
              "    </tr>\n",
              "    <tr>\n",
              "      <th>2015-11-16</th>\n",
              "      <td>117.259174</td>\n",
              "      <td>105.049031</td>\n",
              "      <td>105.318359</td>\n",
              "      <td>106.595627</td>\n",
              "    </tr>\n",
              "    <tr>\n",
              "      <th>...</th>\n",
              "      <td>...</td>\n",
              "      <td>...</td>\n",
              "      <td>...</td>\n",
              "      <td>...</td>\n",
              "    </tr>\n",
              "    <tr>\n",
              "      <th>2018-05-08</th>\n",
              "      <td>123.419153</td>\n",
              "      <td>114.949820</td>\n",
              "      <td>114.793108</td>\n",
              "      <td>127.416435</td>\n",
              "    </tr>\n",
              "    <tr>\n",
              "      <th>2018-05-09</th>\n",
              "      <td>123.664796</td>\n",
              "      <td>115.198340</td>\n",
              "      <td>114.756021</td>\n",
              "      <td>127.577095</td>\n",
              "    </tr>\n",
              "    <tr>\n",
              "      <th>2018-05-10</th>\n",
              "      <td>124.251214</td>\n",
              "      <td>115.942909</td>\n",
              "      <td>115.914579</td>\n",
              "      <td>129.387314</td>\n",
              "    </tr>\n",
              "    <tr>\n",
              "      <th>2018-05-14</th>\n",
              "      <td>123.697624</td>\n",
              "      <td>115.203680</td>\n",
              "      <td>114.882149</td>\n",
              "      <td>129.497437</td>\n",
              "    </tr>\n",
              "    <tr>\n",
              "      <th>2018-05-16</th>\n",
              "      <td>123.700127</td>\n",
              "      <td>113.044090</td>\n",
              "      <td>113.659528</td>\n",
              "      <td>127.711319</td>\n",
              "    </tr>\n",
              "  </tbody>\n",
              "</table>\n",
              "<p>555 rows × 4 columns</p>\n",
              "</div>"
            ],
            "text/plain": [
              "               LR_Pred    RFR_Pred    GBR_Pred    ANN_Pred\n",
              "Date                                                      \n",
              "2015-11-10  117.617622  104.657911  104.362524  106.922546\n",
              "2015-11-11  117.334858  104.935731  105.076553  106.567558\n",
              "2015-11-12  117.134093  105.041461  105.311746  107.024231\n",
              "2015-11-13  116.706816  105.379481  105.545102  107.250931\n",
              "2015-11-16  117.259174  105.049031  105.318359  106.595627\n",
              "...                ...         ...         ...         ...\n",
              "2018-05-08  123.419153  114.949820  114.793108  127.416435\n",
              "2018-05-09  123.664796  115.198340  114.756021  127.577095\n",
              "2018-05-10  124.251214  115.942909  115.914579  129.387314\n",
              "2018-05-14  123.697624  115.203680  114.882149  129.497437\n",
              "2018-05-16  123.700127  113.044090  113.659528  127.711319\n",
              "\n",
              "[555 rows x 4 columns]"
            ]
          },
          "execution_count": 545,
          "metadata": {},
          "output_type": "execute_result"
        }
      ],
      "source": [
        "y_test = pd.DataFrame(y_test)\n",
        "GLD_pred = y_test.drop(\"GLD\", axis = 1)\n",
        "GLD_pred['LR_Pred'] = lr_test_macro_predictions\n",
        "GLD_pred['RFR_Pred'] = rf_test_predict_macro\n",
        "GLD_pred['GBR_Pred'] = test_y_pred_macro_gbr\n",
        "GLD_pred['ANN_Pred'] = predict\n",
        "GLD_pred"
      ]
    },
    {
      "cell_type": "code",
      "execution_count": null,
      "id": "3bbe56ad",
      "metadata": {
        "id": "3bbe56ad",
        "outputId": "237b0325-de83-43d5-dc98-2d44e9c81397"
      },
      "outputs": [
        {
          "data": {
            "image/png": "[encoded data removed]",
            "text/plain": [
              "<Figure size 1200x800 with 1 Axes>"
            ]
          },
          "metadata": {},
          "output_type": "display_data"
        }
      ],
      "source": [
        "from matplotlib.pyplot import figure\n",
        "\n",
        "figure(figsize=(15, 10), dpi=80)\n",
        "plt.plot(y_train, color = \"black\", label = \"Training\")\n",
        "plt.plot(GLD_pred['LR_Pred'], color='green', label = 'Linear Regression')\n",
        "plt.plot(GLD_pred['RFR_Pred'], color='blue', label = 'Random Forest')\n",
        "plt.plot(GLD_pred['GBR_Pred'], color='yellow', label = 'Gradient Boosting')\n",
        "plt.plot(GLD_pred['ANN_Pred'], color='cyan', label = 'Artificial Neural Network')\n",
        "plt.plot(y_test, color = \"red\", label = \"Testing\")\n",
        "plt.ylabel('GLD Price')\n",
        "plt.xlabel('Date')\n",
        "plt.xticks(rotation=45)\n",
        "plt.title(\"Macroeconomic Variables\")\n",
        "plt.legend()\n",
        "plt.show()"
      ]
    },
    {
      "cell_type": "markdown",
      "id": "97e09d8c",
      "metadata": {
        "id": "97e09d8c"
      },
      "source": [
        "### Tech"
      ]
    },
    {
      "cell_type": "code",
      "execution_count": null,
      "id": "e9b961bd",
      "metadata": {
        "id": "e9b961bd",
        "outputId": "a1bd40f7-d7bc-49b4-d6fa-0cb620d69e70"
      },
      "outputs": [
        {
          "data": {
            "text/html": [
              "<div>\n",
              "<style scoped>\n",
              "    .dataframe tbody tr th:only-of-type {\n",
              "        vertical-align: middle;\n",
              "    }\n",
              "\n",
              "    .dataframe tbody tr th {\n",
              "        vertical-align: top;\n",
              "    }\n",
              "\n",
              "    .dataframe thead th {\n",
              "        text-align: right;\n",
              "    }\n",
              "</style>\n",
              "<table border=\"1\" class=\"dataframe\">\n",
              "  <thead>\n",
              "    <tr style=\"text-align: right;\">\n",
              "      <th></th>\n",
              "      <th>LR_Pred</th>\n",
              "      <th>RFR_Pred</th>\n",
              "      <th>GBR_Pred</th>\n",
              "      <th>ANN_Pred</th>\n",
              "    </tr>\n",
              "    <tr>\n",
              "      <th>Date</th>\n",
              "      <th></th>\n",
              "      <th></th>\n",
              "      <th></th>\n",
              "      <th></th>\n",
              "    </tr>\n",
              "  </thead>\n",
              "  <tbody>\n",
              "    <tr>\n",
              "      <th>2015-11-10</th>\n",
              "      <td>101.271996</td>\n",
              "      <td>104.499730</td>\n",
              "      <td>104.508961</td>\n",
              "      <td>101.960930</td>\n",
              "    </tr>\n",
              "    <tr>\n",
              "      <th>2015-11-11</th>\n",
              "      <td>100.719799</td>\n",
              "      <td>104.446089</td>\n",
              "      <td>104.509991</td>\n",
              "      <td>101.475899</td>\n",
              "    </tr>\n",
              "    <tr>\n",
              "      <th>2015-11-12</th>\n",
              "      <td>100.728596</td>\n",
              "      <td>104.466989</td>\n",
              "      <td>104.688028</td>\n",
              "      <td>101.455421</td>\n",
              "    </tr>\n",
              "    <tr>\n",
              "      <th>2015-11-13</th>\n",
              "      <td>100.523630</td>\n",
              "      <td>104.439479</td>\n",
              "      <td>104.453212</td>\n",
              "      <td>101.212303</td>\n",
              "    </tr>\n",
              "    <tr>\n",
              "      <th>2015-11-16</th>\n",
              "      <td>100.985281</td>\n",
              "      <td>104.467420</td>\n",
              "      <td>104.548527</td>\n",
              "      <td>101.636719</td>\n",
              "    </tr>\n",
              "    <tr>\n",
              "      <th>...</th>\n",
              "      <td>...</td>\n",
              "      <td>...</td>\n",
              "      <td>...</td>\n",
              "      <td>...</td>\n",
              "    </tr>\n",
              "    <tr>\n",
              "      <th>2018-05-08</th>\n",
              "      <td>124.327183</td>\n",
              "      <td>124.385381</td>\n",
              "      <td>124.503903</td>\n",
              "      <td>123.455391</td>\n",
              "    </tr>\n",
              "    <tr>\n",
              "      <th>2018-05-09</th>\n",
              "      <td>123.179299</td>\n",
              "      <td>123.882340</td>\n",
              "      <td>123.927416</td>\n",
              "      <td>122.265656</td>\n",
              "    </tr>\n",
              "    <tr>\n",
              "      <th>2018-05-10</th>\n",
              "      <td>125.530029</td>\n",
              "      <td>124.838059</td>\n",
              "      <td>124.909976</td>\n",
              "      <td>124.453735</td>\n",
              "    </tr>\n",
              "    <tr>\n",
              "      <th>2018-05-14</th>\n",
              "      <td>123.487386</td>\n",
              "      <td>124.445450</td>\n",
              "      <td>124.561096</td>\n",
              "      <td>123.736961</td>\n",
              "    </tr>\n",
              "    <tr>\n",
              "      <th>2018-05-16</th>\n",
              "      <td>118.786737</td>\n",
              "      <td>121.117709</td>\n",
              "      <td>121.553581</td>\n",
              "      <td>119.489098</td>\n",
              "    </tr>\n",
              "  </tbody>\n",
              "</table>\n",
              "<p>555 rows × 4 columns</p>\n",
              "</div>"
            ],
            "text/plain": [
              "               LR_Pred    RFR_Pred    GBR_Pred    ANN_Pred\n",
              "Date                                                      \n",
              "2015-11-10  101.271996  104.499730  104.508961  101.960930\n",
              "2015-11-11  100.719799  104.446089  104.509991  101.475899\n",
              "2015-11-12  100.728596  104.466989  104.688028  101.455421\n",
              "2015-11-13  100.523630  104.439479  104.453212  101.212303\n",
              "2015-11-16  100.985281  104.467420  104.548527  101.636719\n",
              "...                ...         ...         ...         ...\n",
              "2018-05-08  124.327183  124.385381  124.503903  123.455391\n",
              "2018-05-09  123.179299  123.882340  123.927416  122.265656\n",
              "2018-05-10  125.530029  124.838059  124.909976  124.453735\n",
              "2018-05-14  123.487386  124.445450  124.561096  123.736961\n",
              "2018-05-16  118.786737  121.117709  121.553581  119.489098\n",
              "\n",
              "[555 rows x 4 columns]"
            ]
          },
          "execution_count": 547,
          "metadata": {},
          "output_type": "execute_result"
        }
      ],
      "source": [
        "y_test = pd.DataFrame(y_test)\n",
        "tech_GLD_pred = y_test.drop(\"GLD\", axis = 1)\n",
        "tech_GLD_pred['LR_Pred'] = lr_test_tech_predictions\n",
        "tech_GLD_pred['RFR_Pred'] = rf_test_predict_tech\n",
        "tech_GLD_pred['GBR_Pred'] = test_y_pred_tech_gbr\n",
        "tech_GLD_pred['ANN_Pred'] = tech_predict\n",
        "tech_GLD_pred"
      ]
    },
    {
      "cell_type": "code",
      "execution_count": null,
      "id": "9458ad20",
      "metadata": {
        "id": "9458ad20",
        "outputId": "16294d1b-31ec-49e5-8c4a-c8b1ac467ddf"
      },
      "outputs": [
        {
          "data": {
            "image/png": "[encoded data removed]",
            "text/plain": [
              "<Figure size 1200x800 with 1 Axes>"
            ]
          },
          "metadata": {},
          "output_type": "display_data"
        }
      ],
      "source": [
        "figure(figsize=(15, 10), dpi=80)\n",
        "plt.plot(y_train, color = \"black\", label = \"Training\")\n",
        "plt.plot(tech_GLD_pred['LR_Pred'], color='green',  label = 'Linear Regression')\n",
        "plt.plot(tech_GLD_pred['RFR_Pred'], color='blue', label = 'Random Forest')\n",
        "plt.plot(tech_GLD_pred['GBR_Pred'], color='yellow', label = 'Gradient Boosting')\n",
        "plt.plot(tech_GLD_pred['ANN_Pred'], color='cyan', label = 'Artificial Neural Network')\n",
        "plt.plot(y_test, color = \"red\", label = \"Testing\")\n",
        "plt.ylabel('GLD Price')\n",
        "plt.xlabel('Date')\n",
        "plt.xticks(rotation=45)\n",
        "plt.title(\"Technical Indicators\")\n",
        "plt.legend()\n",
        "plt.show()"
      ]
    }
  ],
  "metadata": {
    "kernelspec": {
      "display_name": "Python 3 (ipykernel)",
      "language": "python",
      "name": "python3"
    },
    "language_info": {
      "codemirror_mode": {
        "name": "ipython",
        "version": 3
      },
      "file_extension": ".py",
      "mimetype": "text/x-python",
      "name": "python",
      "nbconvert_exporter": "python",
      "pygments_lexer": "ipython3",
      "version": "3.9.13"
    },
    "colab": {
      "provenance": [],
      "include_colab_link": true
    }
  },
  "nbformat": 4,
  "nbformat_minor": 5
}